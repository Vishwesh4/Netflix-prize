{
 "cells": [
  {
   "cell_type": "markdown",
   "metadata": {},
   "source": [
    "# General Instructions to students:\n",
    "\n",
    "1. There are 5 types of cells in this notebook. The cell type will be indicated within the cell.\n",
    "    1. Markdown cells with problem written in it. (DO NOT TOUCH THESE CELLS) (**Cell type: TextRead**)\n",
    "    2. Python cells with setup code for further evaluations. (DO NOT TOUCH THESE CELLS) (**Cell type: CodeRead**)\n",
    "    3. Python code cells with some template code or empty cell. (FILL CODE IN THESE CELLS BASED ON INSTRUCTIONS IN CURRENT AND PREVIOUS CELLS) (**Cell type: CodeWrite**)\n",
    "    4. Markdown cells where a written reasoning or conclusion is expected. (WRITE SENTENCES IN THESE CELLS) (**Cell type: TextWrite**)\n",
    "    5. Temporary code cells for convenience and TAs. (YOU MAY DO WHAT YOU WILL WITH THESE CELLS, TAs WILL REPLACE WHATEVER YOU WRITE HERE WITH OFFICIAL EVALUATION CODE) (**Cell type: Convenience**)\n",
    "    \n",
    "2. You are not allowed to insert new cells in the submitted notebook.\n",
    "\n",
    "3. You are not allowed to import any extra packages.\n",
    "\n",
    "4. The code is to be written in Python 3.6 syntax. Latest versions of other packages maybe assumed.\n",
    "\n",
    "5. In CodeWrite Cells, the only outputs to be given are plots asked in the question. Nothing else to be output/print. \n",
    "\n",
    "6. If TextWrite cells ask you to give accuracy/error/other numbers you can print them on the code cells, but remove the print statements before submitting.\n",
    "\n",
    "7. The convenience code can be used to check the expected syntax of the functions. At a minimum, your entire notebook must run with \"run all\" with the convenience cells as it is. Any runtime failures on the submitted notebook as it is will get zero marks.\n",
    "\n",
    "8. All code must be written by yourself. Copying from other students/material on the web is strictly prohibited. Any violations will result in zero marks.\n",
    "\n",
    "9. All datasets will be given as .npz files, and will contain data in 4 numpy arrays :\"X_train, Y_train, X_test, Y_test\". In that order. The meaning of the 4 arrays can be easily inferred from their names.\n",
    "\n",
    "10. All plots must be labelled properly, all tables must have rows and columns named properly."
   ]
  },
  {
   "cell_type": "code",
   "execution_count": 1,
   "metadata": {},
   "outputs": [],
   "source": [
    "import numpy as np\n",
    "import matplotlib.pyplot as plt\n",
    "import pandas as pd\n",
    "import json"
   ]
  },
  {
   "cell_type": "code",
   "execution_count": 2,
   "metadata": {},
   "outputs": [],
   "source": [
    "#CodeRead\n",
    "\n",
    "data_folder = '../Data_contest/dataset/'\n",
    "\n",
    "\n",
    "genome_scores_df=pd.read_csv(data_folder+'genome_scores.csv') # Large (500MB)\n",
    "movies_df=pd.read_csv(data_folder+'movies.csv')\n",
    "train_df=pd.read_csv(data_folder+'train_with_valid.csv') # Large 500MB\n",
    "validation_df = pd.read_csv(data_folder+'validation.csv') \n",
    "\n",
    "\n",
    "\n",
    "\n",
    "\n",
    "\n"
   ]
  },
  {
   "cell_type": "code",
   "execution_count": 3,
   "metadata": {},
   "outputs": [],
   "source": [
    "#CodeRead\n",
    "\n",
    "# create movie rating dataset from train\n",
    "\n",
    "# Feature vector for the 10000 movies, each with a 1128 dimensional vector. \n",
    "# If a movie doesn't appear in genome_scores we make it simply the 0 vector.\n",
    "X=np.zeros((10000,1128)) \n",
    "movies_with_featvecs=set(genome_scores_df['movieId'])\n",
    "# The average rating, for each of the movies in the training set. \n",
    "# -1 if it is not in the train set.\n",
    "rating_movies = -1*np.ones(10000) \n"
   ]
  },
  {
   "cell_type": "code",
   "execution_count": 4,
   "metadata": {},
   "outputs": [],
   "source": [
    "\n",
    "# Each movie, is labelled +1 or -1 based on whetherr it is a comedy or not\n",
    "\n",
    "for i in range(10000):\n",
    "    if i not in movies_with_featvecs:\n",
    "        continue\n",
    "    temp = genome_scores_df[genome_scores_df['movieId']==i]\n",
    "    feat_vec= np.array(temp['relevance'])\n",
    "    X[i,:]=feat_vec\n"
   ]
  },
  {
   "cell_type": "code",
   "execution_count": 5,
   "metadata": {},
   "outputs": [],
   "source": [
    "\n",
    "for i in range(10000):\n",
    "    temp = train_df[train_df['movieId']==i]\n",
    "    if len(temp)==0:\n",
    "        continue\n",
    "    ratings_curr_movies = temp['rating']\n",
    "    rating_movies[i] = np.mean(ratings_curr_movies)\n",
    "\n"
   ]
  },
  {
   "cell_type": "code",
   "execution_count": 6,
   "metadata": {},
   "outputs": [],
   "source": [
    "# all_genres = []\n",
    "# for i in range(10000):\n",
    "#     temp = movies_df[movies_df['movieId']==i]\n",
    "#     if len(temp)==0:\n",
    "#         continue\n",
    "#     temp = temp['genres'].values[0]\n",
    "#     temp = temp.split('|')\n",
    "#     for genre in temp:\n",
    "#         if genre not in all_genres:\n",
    "#             all_genres.append(genre)\n",
    "        \n",
    "\n"
   ]
  },
  {
   "cell_type": "code",
   "execution_count": 7,
   "metadata": {},
   "outputs": [],
   "source": [
    "# X_genre = np.zeros((10000,19))\n",
    "\n",
    "# for i in range(10000):\n",
    "#     temp = movies_df[movies_df['movieId']==i]\n",
    "#     if len(temp)==0:\n",
    "#         continue\n",
    "#     temp = temp['genres'].values[0]\n",
    "#     temp = temp.split('|')\n",
    "    \n",
    "#     for idx, genre in enumerate(all_genres):\n",
    "#         X_genre[i,idx] = genre in temp"
   ]
  },
  {
   "cell_type": "code",
   "execution_count": 8,
   "metadata": {},
   "outputs": [],
   "source": [
    "# X_concat = np.concatenate((X,X_genre),axis=1)\n",
    "# X_concat.shape"
   ]
  },
  {
   "cell_type": "code",
   "execution_count": 9,
   "metadata": {},
   "outputs": [
    {
     "data": {
      "text/html": [
       "<div>\n",
       "<style scoped>\n",
       "    .dataframe tbody tr th:only-of-type {\n",
       "        vertical-align: middle;\n",
       "    }\n",
       "\n",
       "    .dataframe tbody tr th {\n",
       "        vertical-align: top;\n",
       "    }\n",
       "\n",
       "    .dataframe thead th {\n",
       "        text-align: right;\n",
       "    }\n",
       "</style>\n",
       "<table border=\"1\" class=\"dataframe\">\n",
       "  <thead>\n",
       "    <tr style=\"text-align: right;\">\n",
       "      <th></th>\n",
       "      <th>userId</th>\n",
       "      <th>movieId</th>\n",
       "      <th>rating</th>\n",
       "    </tr>\n",
       "  </thead>\n",
       "  <tbody>\n",
       "    <tr>\n",
       "      <th>0</th>\n",
       "      <td>1</td>\n",
       "      <td>0</td>\n",
       "      <td>4.0</td>\n",
       "    </tr>\n",
       "    <tr>\n",
       "      <th>1</th>\n",
       "      <td>1</td>\n",
       "      <td>4</td>\n",
       "      <td>2.0</td>\n",
       "    </tr>\n",
       "    <tr>\n",
       "      <th>2</th>\n",
       "      <td>1</td>\n",
       "      <td>5</td>\n",
       "      <td>4.0</td>\n",
       "    </tr>\n",
       "    <tr>\n",
       "      <th>3</th>\n",
       "      <td>1</td>\n",
       "      <td>6</td>\n",
       "      <td>3.0</td>\n",
       "    </tr>\n",
       "    <tr>\n",
       "      <th>4</th>\n",
       "      <td>1</td>\n",
       "      <td>9</td>\n",
       "      <td>3.0</td>\n",
       "    </tr>\n",
       "  </tbody>\n",
       "</table>\n",
       "</div>"
      ],
      "text/plain": [
       "   userId  movieId  rating\n",
       "0       1        0     4.0\n",
       "1       1        4     2.0\n",
       "2       1        5     4.0\n",
       "3       1        6     3.0\n",
       "4       1        9     3.0"
      ]
     },
     "execution_count": 9,
     "metadata": {},
     "output_type": "execute_result"
    }
   ],
   "source": [
    "train_df.head()"
   ]
  },
  {
   "cell_type": "code",
   "execution_count": 10,
   "metadata": {},
   "outputs": [],
   "source": [
    "from sklearn.kernel_ridge import KernelRidge as KRR\n"
   ]
  },
  {
   "cell_type": "code",
   "execution_count": 11,
   "metadata": {},
   "outputs": [],
   "source": [
    "Model_list = list(np.zeros(10000))"
   ]
  },
  {
   "cell_type": "code",
   "execution_count": null,
   "metadata": {},
   "outputs": [
    {
     "name": "stdout",
     "output_type": "stream",
     "text": [
      "1\n",
      "101\n",
      "201\n",
      "301\n",
      "401\n",
      "501\n",
      "601\n",
      "801\n",
      "901\n",
      "1101\n",
      "1201\n",
      "1301\n",
      "1401\n",
      "1501\n",
      "1601\n",
      "1701\n",
      "2001\n",
      "2101\n",
      "2201\n",
      "2301\n"
     ]
    }
   ],
   "source": [
    "kernel_param = 0.1\n",
    "C = 10\n",
    "alpha = 1/(2*C)\n",
    "\n",
    "#For user specific\n",
    "Model_list = list(np.zeros(10000))\n",
    "\n",
    "for userId in range(10000):\n",
    "    User_specific = train_df.loc[train_df['userId'] == userId]\n",
    "    if len(User_specific)!=0:\n",
    "        X_training_matrix = X[User_specific.movieId,:]\n",
    "        Y_training_matrix = User_specific.rating\n",
    "        \n",
    "\n",
    "        SVM_algo =  KRR(alpha=alpha, kernel='linear')\n",
    "        classifier = SVM_algo.fit(X_training_matrix,Y_training_matrix)\n",
    "        Model_list[userId] = classifier\n",
    "        if userId % 100 ==1:\n",
    "            print(userId)\n",
    "\n",
    "#         Y_train_pred = classifier.predict(X_training_matrix)\n",
    "#         train_loss = np.mean((Y_train_pred - Y_training_matrix)**2)\n",
    "#         print(\"zero_one loss train = \",train_loss)\n"
   ]
  },
  {
   "cell_type": "code",
   "execution_count": null,
   "metadata": {},
   "outputs": [],
   "source": [
    "df_best_tillnow = pd.read_csv(\"./ensemble_models2/submission_emsembling_8114_withval.csv\")"
   ]
  },
  {
   "cell_type": "code",
   "execution_count": 16,
   "metadata": {},
   "outputs": [
    {
     "ename": "SyntaxError",
     "evalue": "invalid syntax (<ipython-input-16-55d09fa0a773>, line 10)",
     "output_type": "error",
     "traceback": [
      "\u001b[0;36m  File \u001b[0;32m\"<ipython-input-16-55d09fa0a773>\"\u001b[0;36m, line \u001b[0;32m10\u001b[0m\n\u001b[0;31m    rating =\u001b[0m\n\u001b[0m            ^\u001b[0m\n\u001b[0;31mSyntaxError\u001b[0m\u001b[0;31m:\u001b[0m invalid syntax\n"
     ]
    }
   ],
   "source": [
    "#Submission\n",
    "\n",
    "df_test=pd.read_csv(data_folder+'test.csv') # Large 500MB\n",
    "\n",
    "predictions = np.zeros(len(df_test))\n",
    "for i in range(len(df_test)):\n",
    "    userid =  df_test.iloc[i,0]\n",
    "    movieid = df_test.iloc[i,1]\n",
    "    if (type(Model_list[userid])!=np.float64):\n",
    "        X_test = X[movieid,:]\n",
    "        rating = Model_list[userid].predict(X_test)\n",
    "    else:\n",
    "        rating = df_best_tillnow.iloc[i]\n",
    "    if rating>5:\n",
    "        rating = 5\n",
    "    if rating<0.5:\n",
    "        rating =0.5\n",
    "    predictions[i] = rating\n",
    "df_submission = pd.read_csv(data_folder+'dummy_submission.csv')\n",
    "df_submission.Prediction = predictions\n",
    "df_submission.to_csv('./ensemble_models2/Submission_user_regression.csv',index=False)"
   ]
  },
  {
   "cell_type": "code",
   "execution_count": 8,
   "metadata": {},
   "outputs": [],
   "source": [
    "Model_list[1] = 'a'\n"
   ]
  },
  {
   "cell_type": "code",
   "execution_count": 15,
   "metadata": {},
   "outputs": [
    {
     "data": {
      "text/plain": [
       "True"
      ]
     },
     "execution_count": 15,
     "metadata": {},
     "output_type": "execute_result"
    }
   ],
   "source": [
    "type(Model_list[0])==np.float64"
   ]
  },
  {
   "cell_type": "code",
   "execution_count": 9,
   "metadata": {},
   "outputs": [
    {
     "data": {
      "text/plain": [
       "3.360403483924293"
      ]
     },
     "execution_count": 9,
     "metadata": {},
     "output_type": "execute_result"
    }
   ],
   "source": [
    "np.array(train_df['rating']).mean()"
   ]
  },
  {
   "cell_type": "markdown",
   "metadata": {},
   "source": [
    "TextWrite cell. Report test accuracies for different k here.\n",
    "\n",
    "\n"
   ]
  },
  {
   "cell_type": "markdown",
   "metadata": {},
   "source": [
    "# Problem 2: PCA and regression\n",
    "\n",
    "Take the regression dataset below, and perform linear regression after doing PCA on the feature vector. \n",
    "\n",
    "For each K in [4,32,256,1024] take the top k components and report the mean squared error on the test set below. \n",
    "\n",
    "For each K you can choose the regularisation hyperparameter $\\lambda$ for linear regression using a 80-20 split of the training set. \n",
    "\n",
    "For each K above, report the best lambda and the mean squared error for this best lambda in the cell below the next.\n",
    "\n",
    "\n"
   ]
  },
  {
   "cell_type": "code",
   "execution_count": 20,
   "metadata": {},
   "outputs": [],
   "source": [
    "# CodeWrite\n",
    "\n",
    "X_all = X[rating_movies>0]\n",
    "Y_all = rating_movies[rating_movies>0]\n",
    "\n",
    "X_train = np.array(X_all[:7000])\n",
    "Y_train = np.array(Y_all[:7000])\n",
    "X_test = np.array(X_all[7000:])\n",
    "Y_test = np.array(Y_all[7000:])\n",
    "\n",
    "\n",
    "\n",
    "\n"
   ]
  },
  {
   "cell_type": "code",
   "execution_count": 12,
   "metadata": {},
   "outputs": [],
   "source": [
    "\n",
    "def SVM_func(X_train, Y_train, kernel, C=1, kernel_param=1):\n",
    "    if kernel == 'linear':\n",
    "        SVM_algo =  SVR(C=C, kernel=kernel)\n",
    "    if kernel == 'poly':\n",
    "        SVM_algo =  SVR(C=C, kernel=kernel, degree = kernel_param)\n",
    "    else:\n",
    "        SVM_algo =  SVR(C=C, kernel=kernel, gamma = kernel_param)\n",
    "\n",
    "    classifier = SVM_algo.fit(X_train,Y_train)\n",
    "#     Y_test_pred = classifier.decision_function(X_test)\n",
    "    return classifier\n",
    "\n",
    "def best_hyperparam(X_train, Y_train, kernel):\n",
    "    split = int(0.7*X_train.shape[0])\n",
    "    X_train1 = X_train[:split]\n",
    "    X_val = X_train[split:]\n",
    "    Y_train1 = Y_train[:split]\n",
    "    Y_val = Y_train[split:]\n",
    "    best_loss = 10000\n",
    "    best_kernel_param = 1\n",
    "    best_reg_param = 0\n",
    "    \n",
    "    #reg_params = [0.0001]\n",
    "\n",
    "#     if kernel == 'linear':\n",
    "#         kernel_param = 1\n",
    "#         for C in reg_params:\n",
    "#             classifier = SVM_func(X_train1, Y_train1, kernel, C, kernel_param)\n",
    "#             Y_val_pred1 = classifier.decision_function(X_val)\n",
    "#             Y_val_pred = np.where(Y_val_pred1>0,1,-1)\n",
    "#             zero_one_loss = np.where(Y_val_pred != Y_val,1,0)\n",
    "#             mean_zero_one_loss = np.mean(zero_one_loss)\n",
    "#             if mean_zero_one_loss < best_zero_one_loss:\n",
    "#                 best_zero_one_loss = mean_zero_one_loss\n",
    "#                 best_kernel_param = kernel_param\n",
    "#                 best_reg_param = C\n",
    "#             print('C ',C,'loss = ',mean_zero_one_loss)\n",
    "            \n",
    "#     #degree_params = [3]            \n",
    "#     degree_params = [1,3,5,9,15]                  \n",
    "#     if kernel =='poly':  \n",
    "#         for kernel_param in degree_params:\n",
    "#             for C in reg_params:\n",
    "#                 classifier = SVM_func(X_train1, Y_train1, kernel, C, kernel_param)\n",
    "#                 Y_val_pred1 = classifier.decision_function(X_val)\n",
    "#                 Y_val_pred = np.where(Y_val_pred1>0,1,-1)\n",
    "#                 zero_one_loss = np.where(Y_val_pred != Y_val,1,0)\n",
    "#                 mean_zero_one_loss = np.mean(zero_one_loss)\n",
    "#                 if mean_zero_one_loss < best_zero_one_loss:\n",
    "#                     best_zero_one_loss = mean_zero_one_loss\n",
    "#                     best_kernel_param = kernel_param\n",
    "#                     best_reg_param = C\n",
    "#                 #print('C ',C,'degree ', kernel_param, 'loss = ',mean_zero_one_loss)\n",
    "\n",
    "\n",
    "    reg_params = [1e3,1e2,1e1,1,1e-1,1e-2]\n",
    "    rbf_lambda_params = [1e-5,1e-3,1e-1,1,10,1e2] # rbf only\n",
    "    if kernel =='rbf':\n",
    "        for kernel_param in rbf_lambda_params:\n",
    "            for C in reg_params:\n",
    "                classifier = SVM_func(X_train1, Y_train1, kernel, C, kernel_param)\n",
    "                Y_val_pred = classifier.predict(X_val)\n",
    "                mse_loss = np.mean((Y_val_pred - Y_val)**2)\n",
    "                if mse_loss < best_loss:\n",
    "                    best_loss = mse_loss\n",
    "                    best_kernel_param = kernel_param\n",
    "                    best_reg_param = C\n",
    "                print('C ',C,'lambda ', kernel_param, 'loss = ',mse_loss)\n",
    "\n",
    "\n",
    "                    \n",
    "    return best_kernel_param, best_reg_param\n",
    "\n",
    "\n"
   ]
  },
  {
   "cell_type": "code",
   "execution_count": 13,
   "metadata": {},
   "outputs": [
    {
     "name": "stdout",
     "output_type": "stream",
     "text": [
      "zero_one loss train  , test =  0.009068786334461678  ,  0.010145463297216507\n",
      "best params 0.1 10\n"
     ]
    }
   ],
   "source": [
    "kernel = 'rbf'\n",
    "best_kernel_param = 0.1 \n",
    "best_reg_param = 10\n",
    "\n",
    "# best_kernel_param, best_reg_param = best_hyperparam(X_all, Y_all, kernel)\n",
    "# 0.001, 10 according to best_hyperparam()\n",
    "# 0.1,   10 according to submission\n",
    "\n",
    "classifier = SVM_func(X_all, Y_all, kernel, C = best_reg_param, kernel_param = best_kernel_param)\n",
    "\n",
    "Y_train_pred = classifier.predict(X_train)\n",
    "Y_test_pred = classifier.predict(X_test)\n",
    "train_zero_one_loss = np.mean((Y_train_pred - Y_train)**2)\n",
    "test_zero_one_loss = np.mean((Y_test_pred - Y_test)**2)\n",
    "print(\"zero_one loss train  , test = \",train_zero_one_loss,\" , \",test_zero_one_loss)\n",
    "print('best params', best_kernel_param, best_reg_param)"
   ]
  },
  {
   "cell_type": "code",
   "execution_count": 14,
   "metadata": {},
   "outputs": [],
   "source": [
    "# zero_one loss train  , test =  0.009417467803048247  ,  0.010346241350575927\n",
    "\n"
   ]
  },
  {
   "cell_type": "code",
   "execution_count": 15,
   "metadata": {},
   "outputs": [],
   "source": [
    "X_all = X\n",
    "X_all.shape\n",
    "Y_pred_all = classifier.predict(X_all)\n"
   ]
  },
  {
   "cell_type": "code",
   "execution_count": 16,
   "metadata": {},
   "outputs": [],
   "source": [
    "#Submission\n",
    "\n",
    "df_test=pd.read_csv(data_folder+'test.csv') # Large 500MB\n",
    "\n",
    "predictions = np.zeros(len(df_test))\n",
    "for i in range(len(df_test)):\n",
    "    userid =  df_test.iloc[i,0]\n",
    "    movieid = df_test.iloc[i,1]\n",
    "    rating = Y_pred_all[movieid]\n",
    "    if rating>5:\n",
    "        rating = 5\n",
    "    if rating<0.5:\n",
    "        rating =0.5\n",
    "    predictions[i] = rating\n",
    "df_submission = pd.read_csv(data_folder+'dummy_submission.csv')\n",
    "df_submission.Prediction = predictions\n",
    "df_submission.to_csv('./ensemble_models2/Submission_regression_final.csv',index=False)"
   ]
  },
  {
   "cell_type": "code",
   "execution_count": 17,
   "metadata": {},
   "outputs": [],
   "source": [
    "# predictions_train = np.zeros(len(train_df))\n",
    "# for i in range(len(train_df)):\n",
    "#     userid =  train_df.iloc[i,0]\n",
    "#     movieid = train_df.iloc[i,1]\n",
    "# #     rating = float(\"{0:.1f}\".format(Y_pred_all[movieid]))\n",
    "#     rating = Y_pred_all[movieid]    \n",
    "#     if rating>5:\n",
    "#         rating = 5\n",
    "#     if rating<0.5:\n",
    "#         rating =0.5\n",
    "#     predictions_train[i] = rating"
   ]
  },
  {
   "cell_type": "code",
   "execution_count": 18,
   "metadata": {},
   "outputs": [],
   "source": [
    "# train_zero_one_loss = np.mean((predictions_train - train_df.rating)**2)\n",
    "# print(train_zero_one_loss)"
   ]
  },
  {
   "cell_type": "code",
   "execution_count": 19,
   "metadata": {},
   "outputs": [],
   "source": [
    "# train_loss 0.8396834578930399\n"
   ]
  }
 ],
 "metadata": {
  "kernelspec": {
   "display_name": "Python 3",
   "language": "python",
   "name": "python3"
  },
  "language_info": {
   "codemirror_mode": {
    "name": "ipython",
    "version": 3
   },
   "file_extension": ".py",
   "mimetype": "text/x-python",
   "name": "python",
   "nbconvert_exporter": "python",
   "pygments_lexer": "ipython3",
   "version": "3.5.2"
  }
 },
 "nbformat": 4,
 "nbformat_minor": 2
}
