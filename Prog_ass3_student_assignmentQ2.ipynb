{
 "cells": [
  {
   "cell_type": "code",
   "execution_count": 2,
   "metadata": {},
   "outputs": [],
   "source": [
    "import numpy as np\n",
    "import matplotlib.pyplot as plt\n",
    "import pandas as pd\n",
    "import json"
   ]
  },
  {
   "cell_type": "code",
   "execution_count": 3,
   "metadata": {},
   "outputs": [],
   "source": [
    "#CodeRead\n",
    "\n",
    "data_folder = '../Data_contest/dataset/'\n",
    "\n",
    "\n",
    "genome_scores_df=pd.read_csv(data_folder+'genome_scores.csv') # Large (500MB)\n",
    "movies_df=pd.read_csv(data_folder+'movies.csv')\n",
    "train_df=pd.read_csv(data_folder+'train.csv') # Large 500MB\n",
    "validation_df = pd.read_csv(data_folder+'validation.csv') \n",
    "\n",
    "\n",
    "\n",
    "\n",
    "\n",
    "\n"
   ]
  },
  {
   "cell_type": "code",
   "execution_count": 5,
   "metadata": {},
   "outputs": [],
   "source": [
    "#CodeRead\n",
    "\n",
    "# create movie rating dataset from train\n",
    "\n",
    "# Feature vector for the 10000 movies, each with a 1128 dimensional vector. \n",
    "# If a movie doesn't appear in genome_scores we make it simply the 0 vector.\n",
    "X=np.zeros((10000,1128)) \n",
    "movies_with_featvecs=set(genome_scores_df['movieId'])\n",
    "# The average rating, for each of the movies in the training set. \n",
    "# -1 if it is not in the train set.\n",
    "rating_movies = -1*np.ones(10000) \n",
    "\n",
    "# Each movie, is labelled +1 or -1 based on whetherr it is a comedy or not\n",
    "comedy = np.zeros(10000) \n",
    "\n",
    "for i in range(10000):\n",
    "    if i not in movies_with_featvecs:\n",
    "        continue\n",
    "    temp = genome_scores_df[genome_scores_df['movieId']==i]\n",
    "    feat_vec= np.array(temp['relevance'])\n",
    "    X[i,:]=feat_vec\n",
    "\n",
    "for i in range(10000):\n",
    "    temp = train_df[train_df['movieId']==i]\n",
    "    if len(temp)==0:\n",
    "        continue\n",
    "    ratings_curr_movies = temp['rating']\n",
    "    rating_movies[i] = np.mean(ratings_curr_movies)\n",
    "\n",
    "for i in range(10000):\n",
    "    temp = movies_df[movies_df['movieId']==i]\n",
    "    if len(temp)==0:\n",
    "        continue\n",
    "    temp = temp['genres'].values[0]\n",
    "    temp = temp.split('|')\n",
    "    comedy[i] = 'Comedy' in temp\n",
    "    comedy[i] = 2*comedy[i] -1\n"
   ]
  },
  {
   "cell_type": "code",
   "execution_count": 6,
   "metadata": {},
   "outputs": [
    {
     "data": {
      "text/plain": [
       "3.3601078084681526"
      ]
     },
     "execution_count": 6,
     "metadata": {},
     "output_type": "execute_result"
    }
   ],
   "source": [
    "np.array(train_df['rating']).mean()"
   ]
  },
  {
   "cell_type": "markdown",
   "metadata": {},
   "source": [
    "# Problem 2: PCA and regression\n",
    "\n",
    "Take the regression dataset below, and perform linear regression after doing PCA on the feature vector. \n",
    "\n",
    "For each K in [4,32,256,1024] take the top k components and report the mean squared error on the test set below. \n",
    "\n",
    "For each K you can choose the regularisation hyperparameter $\\lambda$ for linear regression using a 80-20 split of the training set. \n",
    "\n",
    "For each K above, report the best lambda and the mean squared error for this best lambda in the cell below the next.\n",
    "\n",
    "\n"
   ]
  },
  {
   "cell_type": "code",
   "execution_count": 100,
   "metadata": {},
   "outputs": [],
   "source": [
    "# CodeWrite\n",
    "\n",
    "def pca(X_all, k=None):\n",
    "    X_df = pd.DataFrame(X_all)\n",
    "    cov_matrix = X_df.cov()\n",
    "    u,s,vt = np.linalg.svd(cov_matrix)\n",
    "\n",
    "    if k==None:\n",
    "        k = X_all.shape[1]\n",
    "    s_new = s[:k]\n",
    "    u_new = u[:,:k]\n",
    "\n",
    "    X_n = u_new.T.dot(X_df.T)\n",
    "    X_new = X_n.T\n",
    "    return X_new\n",
    "\n",
    "def best_hyperparam(X_train, Y_train):\n",
    "    split = int(0.8*X_train.shape[0])\n",
    "    X_train1 = X_train[:split]\n",
    "    X_val = X_train[split:]\n",
    "    Y_train1 = Y_train[:split]\n",
    "    Y_val = Y_train[split:]\n",
    "    best_mse_loss = 1000\n",
    "    best_reg_param = -1\n",
    "    reg_params = [0,1e-5,1e-3,1e-1,1,1e1,1e3]\n",
    "    for reg_param in reg_params:\n",
    "        w = np.dot(np.matmul(np.linalg.inv(np.matmul(X_train1.T, X_train1)\n",
    "                            + 0.5*reg_param*Y_train1.shape[0]*np.eye(X_train1.shape[1])), X_train1.T), Y_train1)\n",
    "        Y_pred_val = np.dot(w, X_val.T)\n",
    "        mse_val = np.mean((Y_pred_val - Y_val)**2)\n",
    "        if mse_val < best_mse_loss:\n",
    "            best_mse_loss = mse_val\n",
    "            best_reg_param = reg_param\n",
    "    return best_reg_param\n",
    "\n",
    "X_all = X[rating_movies>0]\n",
    "Y_all = rating_movies[rating_movies>0]\n",
    "\n",
    "ks = [1,3,7,15,31,63]\n",
    "for k in ks:\n",
    "    X_new = pca(X_all,k=k)\n",
    "    Y_new = Y_all\n",
    "\n",
    "    X_train = np.array(X_new[:7000])\n",
    "    Y_train = np.array(Y_new[:7000])\n",
    "    X_test = np.array(X_new[7000:])\n",
    "    Y_test = np.array(Y_new[7000:])\n",
    "\n",
    "\n",
    "    best_reg_param = best_hyperparam(X_train, Y_train)\n",
    "    w = np.dot(np.matmul(np.linalg.inv(np.matmul(X_train.T, X_train)\n",
    "                                + 0.5*best_reg_param*Y_train.shape[0]*np.eye(X_train.shape[1])), X_train.T), Y_train)\n",
    "    Y_pred_train = np.dot(w, X_train.T)\n",
    "    Y_pred_test = np.dot(w, X_test.T)\n",
    "\n",
    "    mse_train = np.mean((Y_pred_train - Y_train)**2)\n",
    "    mse_test = np.mean((Y_pred_test - Y_test)**2)\n",
    "#     print('K = {}, best_lambda = {}, mse train = {} , mse test = {}'.format(k,best_reg_param,mse_train,mse_test))\n",
    "    print(k,'|', best_reg_param, '|', mse_train, '|',mse_test)"
   ]
  },
  {
   "cell_type": "markdown",
   "metadata": {},
   "source": [
    "TextWrite cell. Report best lambda and the mean squared error on the test set, for different K here.\n",
    "\n",
    "### PCA with Linear Regression\n",
    "\n",
    "|      K     | Best Lambda | MSE Train  |  MSE Test  | \n",
    "|------------|-------------|------------|------------|\n",
    "4 | 0.001 | 0.6545 | 0.8148 |\n",
    "32 | 0 | 0.2925 | 0.4038 |\n",
    "256 | 1e-05 | 0.1552 | 0.2463 |\n",
    "1024 | 0.001 | 0.1412 | 0.2311 |\n",
    "\n"
   ]
  },
  {
   "cell_type": "code",
   "execution_count": null,
   "metadata": {},
   "outputs": [],
   "source": []
  }
 ],
 "metadata": {
  "kernelspec": {
   "display_name": "Python 3",
   "language": "python",
   "name": "python3"
  },
  "language_info": {
   "codemirror_mode": {
    "name": "ipython",
    "version": 3
   },
   "file_extension": ".py",
   "mimetype": "text/x-python",
   "name": "python",
   "nbconvert_exporter": "python",
   "pygments_lexer": "ipython3",
   "version": "3.5.2"
  }
 },
 "nbformat": 4,
 "nbformat_minor": 2
}
