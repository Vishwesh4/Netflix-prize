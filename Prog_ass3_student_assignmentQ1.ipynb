{
 "cells": [
  {
   "cell_type": "code",
   "execution_count": 1,
   "metadata": {},
   "outputs": [],
   "source": [
    "import numpy as np\n",
    "import matplotlib.pyplot as plt\n",
    "import pandas as pd\n",
    "import json"
   ]
  },
  {
   "cell_type": "code",
   "execution_count": 2,
   "metadata": {},
   "outputs": [],
   "source": [
    "#CodeRead\n",
    "\n",
    "data_folder = '../Data_contest/dataset/'\n",
    "\n",
    "\n",
    "genome_scores_df=pd.read_csv(data_folder+'genome_scores.csv') # Large (500MB)\n",
    "movies_df=pd.read_csv(data_folder+'movies.csv')\n",
    "train_df=pd.read_csv(data_folder+'train.csv') # Large 500MB\n",
    "validation_df = pd.read_csv(data_folder+'validation.csv') \n",
    "\n",
    "\n",
    "\n",
    "\n",
    "\n",
    "\n"
   ]
  },
  {
   "cell_type": "code",
   "execution_count": 3,
   "metadata": {},
   "outputs": [],
   "source": [
    "#CodeRead\n",
    "\n",
    "# create movie rating dataset from train\n",
    "\n",
    "# Feature vector for the 10000 movies, each with a 1128 dimensional vector. \n",
    "# If a movie doesn't appear in genome_scores we make it simply the 0 vector.\n",
    "X=np.zeros((10000,1128)) \n",
    "movies_with_featvecs=set(genome_scores_df['movieId'])\n",
    "# The average rating, for each of the movies in the training set. \n",
    "# -1 if it is not in the train set.\n",
    "rating_movies = -1*np.ones(10000) \n",
    "\n",
    "# Each movie, is labelled +1 or -1 based on whetherr it is a comedy or not\n",
    "comedy = np.zeros(10000) \n",
    "\n",
    "for i in range(10000):\n",
    "    if i not in movies_with_featvecs:\n",
    "        continue\n",
    "    temp = genome_scores_df[genome_scores_df['movieId']==i]\n",
    "    feat_vec= np.array(temp['relevance'])\n",
    "    X[i,:]=feat_vec\n",
    "\n",
    "for i in range(10000):\n",
    "    temp = train_df[train_df['movieId']==i]\n",
    "    if len(temp)==0:\n",
    "        continue\n",
    "    ratings_curr_movies = temp['rating']\n",
    "    rating_movies[i] = np.mean(ratings_curr_movies)\n",
    "\n",
    "for i in range(10000):\n",
    "    temp = movies_df[movies_df['movieId']==i]\n",
    "    if len(temp)==0:\n",
    "        continue\n",
    "    temp = temp['genres'].values[0]\n",
    "    temp = temp.split('|')\n",
    "    comedy[i] = 'Comedy' in temp\n",
    "    comedy[i] = 2*comedy[i] -1\n"
   ]
  },
  {
   "cell_type": "code",
   "execution_count": 4,
   "metadata": {},
   "outputs": [
    {
     "data": {
      "text/plain": [
       "3.3601078084681526"
      ]
     },
     "execution_count": 4,
     "metadata": {},
     "output_type": "execute_result"
    }
   ],
   "source": [
    "np.array(train_df['rating']).mean()"
   ]
  },
  {
   "cell_type": "markdown",
   "metadata": {},
   "source": [
    "# Problem 1. K-Nearest Neighbours\n",
    "\n",
    "Run k-Nearest neighbours on the binary classification dataset below, for classifiying whether a given movie is a comedy or not. The train and test feature vectors are given by X_train, X_test and the train and test ratings are Y_train and Y_test. \n",
    "\n",
    "Run k-Nearest neighbours for different k values (1,2,4,8,16,32,64) and report accuracies in the next cell. "
   ]
  },
  {
   "cell_type": "code",
   "execution_count": 42,
   "metadata": {},
   "outputs": [],
   "source": [
    "#CodeWrite cell\n",
    "\n",
    "X_train = np.array(X[:8000,])\n",
    "X_test = np.array(X[8000:])\n",
    "\n",
    "Y_train=np.array(comedy[:8000])\n",
    "Y_test=np.array(comedy[8000:])\n",
    "Y_test_pred = np.empty((Y_test.shape))\n",
    "\n",
    "sorted_idx = np.empty((X_test.shape[0],X_train.shape[0]))\n",
    "for i in range(X_test.shape[0]):\n",
    "    test_instance = X_test[i]\n",
    "    dist = np.sqrt(np.sum((X_train - test_instance)**2, axis=1))\n",
    "    sorted_idx[i] = np.argsort(dist)\n",
    "\n",
    "    \n",
    "ks = [1,2,4,8,16,32,64]\n",
    "\n",
    "for k in ks:\n",
    "    for i in range(X_test.shape[0]):\n",
    "        neighbor_idx = sorted_idx[i,:k].astype(int)\n",
    "        neighbor_ratings = Y_train[neighbor_idx]\n",
    "        Y_test_pred[i] = np.sign(np.mean(neighbor_ratings))\n",
    "\n",
    "    corr = np.where(Y_test_pred == Y_test, 1,0)\n",
    "    acc = np.mean(corr)\n",
    "#     print('k ',k,', test accuracy ', acc)\n"
   ]
  },
  {
   "cell_type": "markdown",
   "metadata": {},
   "source": [
    "TextWrite cell. Report test accuracies for different k here.\n",
    "\n",
    "### Test Accuracies for different k values\n",
    "\n",
    "|      k     | Test Accuracy | \n",
    "|------------|---------------|\n",
    "| 1 | 0.841 |\n",
    "| 2 | 0.7475 |\n",
    "| 4 | 0.8085 |\n",
    "| 8 | 0.834 |\n",
    "| 16 | 0.8025 |\n",
    "| 32 | 0.855 |\n",
    "| 64 | 0.854 |\n",
    "\n"
   ]
  },
  {
   "cell_type": "code",
   "execution_count": null,
   "metadata": {},
   "outputs": [],
   "source": []
  }
 ],
 "metadata": {
  "kernelspec": {
   "display_name": "Python 3",
   "language": "python",
   "name": "python3"
  },
  "language_info": {
   "codemirror_mode": {
    "name": "ipython",
    "version": 3
   },
   "file_extension": ".py",
   "mimetype": "text/x-python",
   "name": "python",
   "nbconvert_exporter": "python",
   "pygments_lexer": "ipython3",
   "version": "3.5.2"
  }
 },
 "nbformat": 4,
 "nbformat_minor": 2
}
