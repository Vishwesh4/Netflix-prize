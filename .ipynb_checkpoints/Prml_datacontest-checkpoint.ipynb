{
 "cells": [
  {
   "cell_type": "code",
   "execution_count": 1,
   "metadata": {
    "collapsed": true
   },
   "outputs": [],
   "source": [
    "import numpy as np\n",
    "import pandas as pd\n",
    "import matplotlib.pyplot as plt"
   ]
  },
  {
   "cell_type": "code",
   "execution_count": 2,
   "metadata": {},
   "outputs": [
    {
     "name": "stdout",
     "output_type": "stream",
     "text": [
      "dummy_submission.csv   genome_scores.csv  tags.csv  train.csv\r\n",
      "genome_attributes.csv  movies.csv         test.csv\r\n"
     ]
    }
   ],
   "source": [
    "% ls ./dataset"
   ]
  },
  {
   "cell_type": "code",
   "execution_count": 3,
   "metadata": {
    "collapsed": true
   },
   "outputs": [],
   "source": [
    "#Loading dataset\n",
    "df_train_full = pd.read_csv(\"./dataset/train.csv\")\n",
    "df_test = pd.read_csv(\"./dataset/test.csv\")"
   ]
  },
  {
   "cell_type": "code",
   "execution_count": 4,
   "metadata": {},
   "outputs": [
    {
     "data": {
      "text/html": [
       "<div>\n",
       "<style scoped>\n",
       "    .dataframe tbody tr th:only-of-type {\n",
       "        vertical-align: middle;\n",
       "    }\n",
       "\n",
       "    .dataframe tbody tr th {\n",
       "        vertical-align: top;\n",
       "    }\n",
       "\n",
       "    .dataframe thead th {\n",
       "        text-align: right;\n",
       "    }\n",
       "</style>\n",
       "<table border=\"1\" class=\"dataframe\">\n",
       "  <thead>\n",
       "    <tr style=\"text-align: right;\">\n",
       "      <th></th>\n",
       "      <th>userId</th>\n",
       "      <th>movieId</th>\n",
       "      <th>rating</th>\n",
       "    </tr>\n",
       "  </thead>\n",
       "  <tbody>\n",
       "    <tr>\n",
       "      <th>count</th>\n",
       "      <td>5.264336e+06</td>\n",
       "      <td>5.264336e+06</td>\n",
       "      <td>5.264336e+06</td>\n",
       "    </tr>\n",
       "    <tr>\n",
       "      <th>mean</th>\n",
       "      <td>4.987450e+03</td>\n",
       "      <td>2.591271e+03</td>\n",
       "      <td>3.360108e+00</td>\n",
       "    </tr>\n",
       "    <tr>\n",
       "      <th>std</th>\n",
       "      <td>2.876768e+03</td>\n",
       "      <td>1.996855e+03</td>\n",
       "      <td>1.058213e+00</td>\n",
       "    </tr>\n",
       "    <tr>\n",
       "      <th>min</th>\n",
       "      <td>1.000000e+00</td>\n",
       "      <td>0.000000e+00</td>\n",
       "      <td>5.000000e-01</td>\n",
       "    </tr>\n",
       "    <tr>\n",
       "      <th>25%</th>\n",
       "      <td>2.501000e+03</td>\n",
       "      <td>1.018000e+03</td>\n",
       "      <td>3.000000e+00</td>\n",
       "    </tr>\n",
       "    <tr>\n",
       "      <th>50%</th>\n",
       "      <td>5.012000e+03</td>\n",
       "      <td>2.083000e+03</td>\n",
       "      <td>3.500000e+00</td>\n",
       "    </tr>\n",
       "    <tr>\n",
       "      <th>75%</th>\n",
       "      <td>7.472000e+03</td>\n",
       "      <td>3.696000e+03</td>\n",
       "      <td>4.000000e+00</td>\n",
       "    </tr>\n",
       "    <tr>\n",
       "      <th>max</th>\n",
       "      <td>9.969000e+03</td>\n",
       "      <td>8.251000e+03</td>\n",
       "      <td>5.000000e+00</td>\n",
       "    </tr>\n",
       "  </tbody>\n",
       "</table>\n",
       "</div>"
      ],
      "text/plain": [
       "             userId       movieId        rating\n",
       "count  5.264336e+06  5.264336e+06  5.264336e+06\n",
       "mean   4.987450e+03  2.591271e+03  3.360108e+00\n",
       "std    2.876768e+03  1.996855e+03  1.058213e+00\n",
       "min    1.000000e+00  0.000000e+00  5.000000e-01\n",
       "25%    2.501000e+03  1.018000e+03  3.000000e+00\n",
       "50%    5.012000e+03  2.083000e+03  3.500000e+00\n",
       "75%    7.472000e+03  3.696000e+03  4.000000e+00\n",
       "max    9.969000e+03  8.251000e+03  5.000000e+00"
      ]
     },
     "execution_count": 4,
     "metadata": {},
     "output_type": "execute_result"
    }
   ],
   "source": [
    "df_train_full.describe()"
   ]
  },
  {
   "cell_type": "code",
   "execution_count": 51,
   "metadata": {
    "collapsed": true
   },
   "outputs": [],
   "source": [
    "#Splitting into test and train data\n",
    "np.random.seed(5)\n",
    "indices = np.random.permutation(df_train_full.shape[0])\n",
    "training_idx, test_idx = indices[:int(0.85*len(df_train_full))], indices[int(0.85*len(df_train_full)):]\n",
    "df_train, df_csv = df_train_full.iloc[training_idx,:], df_train_full.iloc[test_idx,:]\n",
    "#Sorting for better data handling and clarity\n",
    "df_train=df_train.sort_values(by=['userId','movieId']).reset_index(drop=True)\n",
    "df_csv=df_csv.sort_values(by=['userId','movieId']).reset_index(drop=True)"
   ]
  },
  {
   "cell_type": "markdown",
   "metadata": {},
   "source": [
    "## <u>Baseline Prediction</u>\n",
    "We first remove the inheritttent bias between users and movies using a simple baseline prediction.<br>\n",
    "Here we have three parameters \n",
    "miu: 1x1 \n",
    "bu: users bias 10kx1 [one for each userid]\n",
    "bi: movie bias 10kx1 [one for each movieid]"
   ]
  },
  {
   "cell_type": "code",
   "execution_count": 102,
   "metadata": {},
   "outputs": [],
   "source": [
    "#Baseline Prediction\n",
    "\n",
    "# def gradient_update(Parameters,option,,lamda=0):\n",
    "#     '''\n",
    "#     Arguments:\n",
    "#     Parameters: Consits of miu,bu,b'i in order\n",
    "#     option: Its a tuple consisting of ('movie/user',movieid/userid)     \n",
    "#     updated_miu: Takes Yes/No , if yes then updates miu else doesnt update\n",
    "#     Lamda: Regularization hyperparameter, lamda=0 for no regularization\n",
    "    \n",
    "#     Returns:\n",
    "#     loss and gradient update for user u or movie i or miu based on option selected\n",
    "#     '''\n",
    "np.random.seed(5)\n",
    "indices = np.random.permutation(df_train.shape[0])\n",
    "\n",
    "def minibatch(batch_no,df,batch_size=batch_size):\n",
    "    '''Generates the batch for mini-batch gradient descent '''\n",
    "    if (batch_no+1)*batch_size > len(df):\n",
    "        minibatch_indices = indices[batch_size*(batch_no)::]\n",
    "    else:        \n",
    "        minibatch_indices = indices[batch_size*(batch_no):batch_size*batch_no]\n",
    "    X_train = df.iloc[minibatch_indices,:]\n",
    "    X_train = X_train.sort_values(by=['userId','movieId']).reset_index(drop=True)\n",
    "    return X_train\n",
    "\n",
    "#Initialize values for bu,b'i,miu\n",
    "#Since we are given there are 10k users and 10k movie id\n",
    "bu = np.zeros(10000)\n",
    "bi = np.zeros(10000)\n",
    "#Taking initial guess of miu as average of all ratings\n",
    "miu = np.mean(df_train.iloc[:,2])\n",
    "\n",
    "\n",
    "#Mini-batch Gradient descent\n",
    "#Hyperparameters\n",
    "step_size = 0.001\n",
    "lamda = 0\n",
    "Epochs = 1000\n",
    "batch_size = 1023  \n",
    "# num_batches = \n",
    "# for epoch in Epochs:\n",
    "#     for "
   ]
  },
  {
   "cell_type": "code",
   "execution_count": 108,
   "metadata": {},
   "outputs": [],
   "source": [
    "X=minibatch(4372,df_train)"
   ]
  },
  {
   "cell_type": "code",
   "execution_count": 103,
   "metadata": {},
   "outputs": [
    {
     "data": {
      "text/plain": [
       "4374"
      ]
     },
     "execution_count": 103,
     "metadata": {},
     "output_type": "execute_result"
    }
   ],
   "source": [
    "len(df_train)//1023"
   ]
  },
  {
   "cell_type": "code",
   "execution_count": 109,
   "metadata": {},
   "outputs": [
    {
     "data": {
      "text/plain": [
       "0"
      ]
     },
     "execution_count": 109,
     "metadata": {},
     "output_type": "execute_result"
    }
   ],
   "source": [
    "len(X)"
   ]
  },
  {
   "cell_type": "code",
   "execution_count": 55,
   "metadata": {},
   "outputs": [
    {
     "data": {
      "text/plain": [
       "(4474685, 3)"
      ]
     },
     "execution_count": 55,
     "metadata": {},
     "output_type": "execute_result"
    }
   ],
   "source": [
    "df_train.shape"
   ]
  },
  {
   "cell_type": "code",
   "execution_count": null,
   "metadata": {
    "collapsed": true
   },
   "outputs": [],
   "source": []
  }
 ],
 "metadata": {
  "kernelspec": {
   "display_name": "Python 3",
   "language": "python",
   "name": "python3"
  },
  "language_info": {
   "codemirror_mode": {
    "name": "ipython",
    "version": 3
   },
   "file_extension": ".py",
   "mimetype": "text/x-python",
   "name": "python",
   "nbconvert_exporter": "python",
   "pygments_lexer": "ipython3",
   "version": "3.6.8"
  }
 },
 "nbformat": 4,
 "nbformat_minor": 2
}
